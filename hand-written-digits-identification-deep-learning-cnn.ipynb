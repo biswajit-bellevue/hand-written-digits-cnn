{
 "cells": [
  {
   "cell_type": "markdown",
   "id": "d636973d-c27d-493e-8a27-d532bff1d90c",
   "metadata": {},
   "source": [
    "## Assignment Week 11 - Biswajit Sharma"
   ]
  },
  {
   "cell_type": "markdown",
   "id": "20d4b374-45a0-4676-a8c9-db16b182c84f",
   "metadata": {},
   "source": [
    "Load the MNIST data set."
   ]
  },
  {
   "cell_type": "code",
   "execution_count": 1,
   "id": "192ad05b-9f6a-487c-936c-11cd2c15be0d",
   "metadata": {},
   "outputs": [],
   "source": [
    "# import modules\n",
    "\n",
    "import numpy as np\n",
    "# import keras\n",
    "from tensorflow.keras.datasets import mnist\n",
    "from tensorflow.keras.utils import to_categorical\n",
    "from tensorflow.keras.models import Sequential\n",
    "from tensorflow.keras.layers import Dense, Dropout, Flatten, Conv2D, MaxPooling2D\n",
    "from sklearn.metrics import accuracy_score, ConfusionMatrixDisplay\n",
    "import matplotlib.pyplot as plt\n",
    "\n",
    "# imports to hide warnings\n",
    "import warnings\n",
    "warnings.filterwarnings('ignore')"
   ]
  },
  {
   "cell_type": "code",
   "execution_count": 2,
   "id": "5bfc13b9-5231-4b0d-ba43-fa2b82d7a985",
   "metadata": {},
   "outputs": [],
   "source": [
    "#download mnist data and split into train and test sets\n",
    "(X_train, y_train), (X_test, y_test) = mnist.load_data()"
   ]
  },
  {
   "cell_type": "markdown",
   "id": "95bb02e7-1b70-4786-8677-147125779ccb",
   "metadata": {},
   "source": [
    "Display the first five images in the training data set. Compare these to the first five training labels."
   ]
  },
  {
   "cell_type": "code",
   "execution_count": 3,
   "id": "4366040b-bf94-4a20-bd13-27cc95e62168",
   "metadata": {},
   "outputs": [
    {
     "data": {
      "image/png": "[encoded data removed]",
      "text/plain": [
       "<Figure size 640x480 with 5 Axes>"
      ]
     },
     "metadata": {},
     "output_type": "display_data"
    }
   ],
   "source": [
    "#plot the first five image in the dataset\n",
    "fig, ax = plt.subplots(nrows=1, ncols=5)\n",
    "ax[0].imshow(X_train[0],cmap=\"gray\")\n",
    "ax[1].imshow(X_train[1],cmap=\"gray\")\n",
    "ax[2].imshow(X_train[2],cmap=\"gray\")\n",
    "ax[3].imshow(X_train[3],cmap=\"gray\")\n",
    "ax[4].imshow(X_train[4],cmap=\"gray\")\n",
    "plt.show()"
   ]
  },
  {
   "cell_type": "code",
   "execution_count": 4,
   "id": "1a798d4e-6392-4a8a-a69c-d3f2393c92ae",
   "metadata": {},
   "outputs": [
    {
     "data": {
      "text/plain": [
       "array([5, 0, 4, 1, 9], dtype=uint8)"
      ]
     },
     "execution_count": 4,
     "metadata": {},
     "output_type": "execute_result"
    }
   ],
   "source": [
    "# first five training labels\n",
    "y_train[0:5]"
   ]
  },
  {
   "cell_type": "markdown",
   "id": "8b8dc36e-5ef7-4c7c-97d6-ec3df56887fe",
   "metadata": {},
   "source": [
    "We see that the training images matches the training lables."
   ]
  },
  {
   "cell_type": "markdown",
   "id": "d73ff916-28f7-42e2-ac92-0d7c3eb15c33",
   "metadata": {},
   "source": [
    "Build and train a Keras CNN classifier on the MNIST training set."
   ]
  },
  {
   "cell_type": "code",
   "execution_count": 5,
   "id": "fb8be993-a43b-44c4-9edc-cd435ee00e1f",
   "metadata": {},
   "outputs": [
    {
     "data": {
      "text/plain": [
       "((60000, 28, 28), (10000, 28, 28))"
      ]
     },
     "execution_count": 5,
     "metadata": {},
     "output_type": "execute_result"
    }
   ],
   "source": [
    "# check the sahpe of train and test data\n",
    "X_train.shape, X_test.shape"
   ]
  },
  {
   "cell_type": "markdown",
   "id": "f469d072-ced3-466d-8380-8d655aabdc3a",
   "metadata": {},
   "source": [
    "We see that the pixels are 28X28 with 60000 examples in training set and 10000 examples in test set"
   ]
  },
  {
   "cell_type": "code",
   "execution_count": 6,
   "id": "6130cf32-4615-42a2-a514-d13def7068e3",
   "metadata": {},
   "outputs": [],
   "source": [
    "# set channels, height and width\n",
    "channels = 1\n",
    "height = 28\n",
    "width = 28"
   ]
  },
  {
   "cell_type": "code",
   "execution_count": 7,
   "id": "06a75234-7540-48c3-9107-66dbf3dbc5c0",
   "metadata": {},
   "outputs": [],
   "source": [
    "# reshape train and test set to have a single channel\n",
    "train_X = X_train.reshape((X_train.shape[0], height, width, channels))\n",
    "test_X = X_test.reshape((X_test.shape[0], height, width, channels))"
   ]
  },
  {
   "cell_type": "code",
   "execution_count": 8,
   "id": "c2f8844b-90ae-4854-b4aa-afc2d12ac163",
   "metadata": {},
   "outputs": [],
   "source": [
    "#rescale the pixel intensity values between 0-1\n",
    "features_train = train_X/255\n",
    "features_test = test_X/255"
   ]
  },
  {
   "cell_type": "markdown",
   "id": "e7ef009e-4282-4d2f-a0af-1ccfc6842128",
   "metadata": {},
   "source": [
    "There are 10 classes each for each digit from 0-9. We can perform one hot encoding to convert the target."
   ]
  },
  {
   "cell_type": "code",
   "execution_count": 9,
   "id": "f9f7176d-57cb-4d8e-9666-b47cccce26b3",
   "metadata": {},
   "outputs": [],
   "source": [
    "#using to_categorical function to convert the target\n",
    "target_train = to_categorical(y_train)\n",
    "target_test = to_categorical(y_test)"
   ]
  },
  {
   "cell_type": "code",
   "execution_count": 10,
   "id": "cac5419a-b237-45da-afd4-55f6c05ab403",
   "metadata": {
    "scrolled": true
   },
   "outputs": [],
   "source": [
    "#define model\n",
    "\n",
    "model = Sequential()\n",
    "\n",
    "# add convolution layers layers with 64 3X3 filters\n",
    "model.add(Conv2D(64, kernel_size=3, activation=\"relu\", input_shape=(height, width, channels)))\n",
    "\n",
    "# add maxpooling layer with 2x2 filter \n",
    "model.add(MaxPooling2D((2,2)))\n",
    "\n",
    "# add a dropout layer\n",
    "model.add(Dropout(0.5))\n",
    "\n",
    "# add flattenting layer before connected layers\n",
    "model.add(Flatten())\n",
    "\n",
    "# add connected layers of 128 units \n",
    "model.add(Dense(128, activation='relu'))\n",
    "\n",
    "# add a dropout layer\n",
    "model.add(Dropout(0.5))\n",
    "\n",
    "# add output layer with 'softmax' activation function\n",
    "model.add(Dense(10, activation=\"softmax\"))"
   ]
  },
  {
   "cell_type": "code",
   "execution_count": 11,
   "id": "6fd812b1-003a-49dd-9e92-0bb52fbb00fe",
   "metadata": {},
   "outputs": [],
   "source": [
    "#compile model with optimizer and loss function\n",
    "model.compile(optimizer=\"adam\", loss=\"categorical_crossentropy\", metrics=[\"accuracy\"])"
   ]
  },
  {
   "cell_type": "code",
   "execution_count": 12,
   "id": "da36a1da-2a43-4211-8b1a-c38511b016ed",
   "metadata": {},
   "outputs": [
    {
     "name": "stdout",
     "output_type": "stream",
     "text": [
      "Epoch 1/3\n",
      "\u001b[1m60/60\u001b[0m \u001b[32m━━━━━━━━━━━━━━━━━━━━\u001b[0m\u001b[37m\u001b[0m \u001b[1m19s\u001b[0m 257ms/step - accuracy: 0.6896 - loss: 1.0283 - val_accuracy: 0.9383 - val_loss: 0.2073\n",
      "Epoch 2/3\n",
      "\u001b[1m60/60\u001b[0m \u001b[32m━━━━━━━━━━━━━━━━━━━━\u001b[0m\u001b[37m\u001b[0m \u001b[1m15s\u001b[0m 244ms/step - accuracy: 0.9194 - loss: 0.2668 - val_accuracy: 0.9641 - val_loss: 0.1216\n",
      "Epoch 3/3\n",
      "\u001b[1m60/60\u001b[0m \u001b[32m━━━━━━━━━━━━━━━━━━━━\u001b[0m\u001b[37m\u001b[0m \u001b[1m15s\u001b[0m 246ms/step - accuracy: 0.9513 - loss: 0.1744 - val_accuracy: 0.9750 - val_loss: 0.0880\n"
     ]
    },
    {
     "data": {
      "text/plain": [
       "<keras.src.callbacks.history.History at 0x1b71eba4e50>"
      ]
     },
     "execution_count": 12,
     "metadata": {},
     "output_type": "execute_result"
    }
   ],
   "source": [
    "#train the model\n",
    "model.fit(features_train, target_train, validation_data=(features_test, target_test), epochs=3, batch_size=1000)"
   ]
  },
  {
   "cell_type": "markdown",
   "id": "b4b6e089-ec7f-4482-ba76-c3cb08ee9503",
   "metadata": {},
   "source": [
    "Report the test accuracy of your model."
   ]
  },
  {
   "cell_type": "code",
   "execution_count": 13,
   "id": "dacacbf5-966e-4e62-ac42-1d412736be57",
   "metadata": {},
   "outputs": [
    {
     "name": "stdout",
     "output_type": "stream",
     "text": [
      "\u001b[1m313/313\u001b[0m \u001b[32m━━━━━━━━━━━━━━━━━━━━\u001b[0m\u001b[37m\u001b[0m \u001b[1m2s\u001b[0m 7ms/step\n"
     ]
    }
   ],
   "source": [
    "# predict the digits using trained model\n",
    "predicted = model.predict(features_test)"
   ]
  },
  {
   "cell_type": "code",
   "execution_count": 14,
   "id": "0139d05e-b189-4c81-a09d-6ca3881bba8f",
   "metadata": {},
   "outputs": [],
   "source": [
    "# As putput is probability of 10 classes, we are using argmax to identify the max probability and its indes. Index will provide the actual digit.\n",
    "predicted_formatted = np.argmax(predicted,axis=1)"
   ]
  },
  {
   "cell_type": "code",
   "execution_count": 15,
   "id": "1d0ec5ac-bf3b-4be8-b97e-597fcb5c67bc",
   "metadata": {},
   "outputs": [
    {
     "data": {
      "text/plain": [
       "0.975"
      ]
     },
     "execution_count": 15,
     "metadata": {},
     "output_type": "execute_result"
    }
   ],
   "source": [
    "# compute accuracy score of the model for test set\n",
    "accuracy_score(y_test,predicted_formatted)"
   ]
  },
  {
   "cell_type": "markdown",
   "id": "4f45960c-80b2-40cd-bd3f-1cfe98fb4508",
   "metadata": {},
   "source": [
    "Display a confusion matrix on the test set classifications."
   ]
  },
  {
   "cell_type": "code",
   "execution_count": 16,
   "id": "35c01c4b-92b4-4f26-97f9-d07c86368126",
   "metadata": {},
   "outputs": [
    {
     "data": {
      "image/png": "[encoded data removed]",
      "text/plain": [
       "<Figure size 640x480 with 1 Axes>"
      ]
     },
     "metadata": {},
     "output_type": "display_data"
    }
   ],
   "source": [
    "ConfusionMatrixDisplay.from_predictions(y_test,predicted_formatted,\n",
    "                      colorbar=False,\n",
    "                      cmap=\"Blues\")\n",
    "plt.title(\"Confusion Matrix\")\n",
    "plt.show()"
   ]
  },
  {
   "cell_type": "markdown",
   "id": "64f180cc-9c41-4857-b29c-776da5bf2fed",
   "metadata": {},
   "source": [
    "#### Summary"
   ]
  },
  {
   "cell_type": "markdown",
   "id": "681ffab9-c28d-47f8-8bb7-7c761896b298",
   "metadata": {},
   "source": [
    "We have trained a simple CNN model using `MNIST` dataset to classify hand written digits images. We noticed that the model is performing well with a _test accuracy_ of $0.97$. CNN model was trained for $3$ epochs with batch size of $1000$ records. As expected the training accuracy increased in each epoch with the third epoch reaching maximum training accuracy."
   ]
  },
  {
   "cell_type": "code",
   "execution_count": null,
   "id": "6a344781-e487-4baf-aa96-50ed861a5232",
   "metadata": {},
   "outputs": [],
   "source": []
  }
 ],
 "metadata": {
  "kernelspec": {
   "display_name": "Python 3 (ipykernel)",
   "language": "python",
   "name": "python3"
  },
  "language_info": {
   "codemirror_mode": {
    "name": "ipython",
    "version": 3
   },
   "file_extension": ".py",
   "mimetype": "text/x-python",
   "name": "python",
   "nbconvert_exporter": "python",
   "pygments_lexer": "ipython3",
   "version": "3.11.4"
  }
 },
 "nbformat": 4,
 "nbformat_minor": 5
}
